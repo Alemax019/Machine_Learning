{
 "cells": [
  {
   "attachments": {},
   "cell_type": "markdown",
   "metadata": {},
   "source": [
    "# Realizamos la importacion del archivo Parquet"
   ]
  },
  {
   "cell_type": "code",
   "execution_count": 40,
   "metadata": {},
   "outputs": [],
   "source": [
    "import pandas as pd"
   ]
  },
  {
   "cell_type": "code",
   "execution_count": 41,
   "metadata": {},
   "outputs": [],
   "source": [
    "df_propiedades = pd.read_parquet('./train.parquet')"
   ]
  },
  {
   "attachments": {},
   "cell_type": "markdown",
   "metadata": {},
   "source": [
    "# Realizamos exploracion de los datos"
   ]
  },
  {
   "cell_type": "code",
   "execution_count": 42,
   "metadata": {},
   "outputs": [
    {
     "data": {
      "text/html": [
       "<div>\n",
       "<style scoped>\n",
       "    .dataframe tbody tr th:only-of-type {\n",
       "        vertical-align: middle;\n",
       "    }\n",
       "\n",
       "    .dataframe tbody tr th {\n",
       "        vertical-align: top;\n",
       "    }\n",
       "\n",
       "    .dataframe thead th {\n",
       "        text-align: right;\n",
       "    }\n",
       "</style>\n",
       "<table border=\"1\" class=\"dataframe\">\n",
       "  <thead>\n",
       "    <tr style=\"text-align: right;\">\n",
       "      <th></th>\n",
       "      <th>id</th>\n",
       "      <th>url</th>\n",
       "      <th>region</th>\n",
       "      <th>region_url</th>\n",
       "      <th>price</th>\n",
       "      <th>type</th>\n",
       "      <th>sqfeet</th>\n",
       "      <th>beds</th>\n",
       "      <th>baths</th>\n",
       "      <th>cats_allowed</th>\n",
       "      <th>...</th>\n",
       "      <th>wheelchair_access</th>\n",
       "      <th>electric_vehicle_charge</th>\n",
       "      <th>comes_furnished</th>\n",
       "      <th>laundry_options</th>\n",
       "      <th>parking_options</th>\n",
       "      <th>image_url</th>\n",
       "      <th>description</th>\n",
       "      <th>lat</th>\n",
       "      <th>long</th>\n",
       "      <th>state</th>\n",
       "    </tr>\n",
       "  </thead>\n",
       "  <tbody>\n",
       "    <tr>\n",
       "      <th>0</th>\n",
       "      <td>7048013474</td>\n",
       "      <td>https://boise.craigslist.org/apa/d/very-nice-b...</td>\n",
       "      <td>boise</td>\n",
       "      <td>https://boise.craigslist.org</td>\n",
       "      <td>1350</td>\n",
       "      <td>house</td>\n",
       "      <td>1200</td>\n",
       "      <td>2</td>\n",
       "      <td>2.0</td>\n",
       "      <td>1</td>\n",
       "      <td>...</td>\n",
       "      <td>0</td>\n",
       "      <td>0</td>\n",
       "      <td>0</td>\n",
       "      <td>w/d in unit</td>\n",
       "      <td>detached garage</td>\n",
       "      <td>https://images.craigslist.org/00B0B_cPiJMEheZe...</td>\n",
       "      <td>Super cute row house in the Boise bench area. ...</td>\n",
       "      <td>43.5851</td>\n",
       "      <td>-116.225</td>\n",
       "      <td>id</td>\n",
       "    </tr>\n",
       "    <tr>\n",
       "      <th>1</th>\n",
       "      <td>7043931179</td>\n",
       "      <td>https://cosprings.craigslist.org/apa/d/colorad...</td>\n",
       "      <td>colorado springs</td>\n",
       "      <td>https://cosprings.craigslist.org</td>\n",
       "      <td>1115</td>\n",
       "      <td>apartment</td>\n",
       "      <td>694</td>\n",
       "      <td>1</td>\n",
       "      <td>1.0</td>\n",
       "      <td>1</td>\n",
       "      <td>...</td>\n",
       "      <td>0</td>\n",
       "      <td>0</td>\n",
       "      <td>0</td>\n",
       "      <td>w/d in unit</td>\n",
       "      <td>carport</td>\n",
       "      <td>https://images.craigslist.org/00R0R_5XAoSKvfrz...</td>\n",
       "      <td>Windtree Apartment Homes currently has a spaci...</td>\n",
       "      <td>38.9137</td>\n",
       "      <td>-104.780</td>\n",
       "      <td>co</td>\n",
       "    </tr>\n",
       "  </tbody>\n",
       "</table>\n",
       "<p>2 rows × 22 columns</p>\n",
       "</div>"
      ],
      "text/plain": [
       "           id                                                url  \\\n",
       "0  7048013474  https://boise.craigslist.org/apa/d/very-nice-b...   \n",
       "1  7043931179  https://cosprings.craigslist.org/apa/d/colorad...   \n",
       "\n",
       "             region                        region_url  price       type  \\\n",
       "0             boise      https://boise.craigslist.org   1350      house   \n",
       "1  colorado springs  https://cosprings.craigslist.org   1115  apartment   \n",
       "\n",
       "   sqfeet  beds  baths  cats_allowed  ...  wheelchair_access  \\\n",
       "0    1200     2    2.0             1  ...                  0   \n",
       "1     694     1    1.0             1  ...                  0   \n",
       "\n",
       "   electric_vehicle_charge  comes_furnished  laundry_options  parking_options  \\\n",
       "0                        0                0      w/d in unit  detached garage   \n",
       "1                        0                0      w/d in unit          carport   \n",
       "\n",
       "                                           image_url  \\\n",
       "0  https://images.craigslist.org/00B0B_cPiJMEheZe...   \n",
       "1  https://images.craigslist.org/00R0R_5XAoSKvfrz...   \n",
       "\n",
       "                                         description      lat     long  state  \n",
       "0  Super cute row house in the Boise bench area. ...  43.5851 -116.225     id  \n",
       "1  Windtree Apartment Homes currently has a spaci...  38.9137 -104.780     co  \n",
       "\n",
       "[2 rows x 22 columns]"
      ]
     },
     "execution_count": 42,
     "metadata": {},
     "output_type": "execute_result"
    }
   ],
   "source": [
    "df_propiedades.head(2)"
   ]
  },
  {
   "cell_type": "code",
   "execution_count": 43,
   "metadata": {},
   "outputs": [
    {
     "name": "stdout",
     "output_type": "stream",
     "text": [
      "<class 'pandas.core.frame.DataFrame'>\n",
      "RangeIndex: 346479 entries, 0 to 346478\n",
      "Data columns (total 22 columns):\n",
      " #   Column                   Non-Null Count   Dtype  \n",
      "---  ------                   --------------   -----  \n",
      " 0   id                       346479 non-null  int64  \n",
      " 1   url                      346479 non-null  object \n",
      " 2   region                   346479 non-null  object \n",
      " 3   region_url               346479 non-null  object \n",
      " 4   price                    346479 non-null  int64  \n",
      " 5   type                     346479 non-null  object \n",
      " 6   sqfeet                   346479 non-null  int64  \n",
      " 7   beds                     346479 non-null  int64  \n",
      " 8   baths                    346479 non-null  float64\n",
      " 9   cats_allowed             346479 non-null  int64  \n",
      " 10  dogs_allowed             346479 non-null  int64  \n",
      " 11  smoking_allowed          346479 non-null  int64  \n",
      " 12  wheelchair_access        346479 non-null  int64  \n",
      " 13  electric_vehicle_charge  346479 non-null  int64  \n",
      " 14  comes_furnished          346479 non-null  int64  \n",
      " 15  laundry_options          275308 non-null  object \n",
      " 16  parking_options          219797 non-null  object \n",
      " 17  image_url                346479 non-null  object \n",
      " 18  description              346477 non-null  object \n",
      " 19  lat                      344757 non-null  float64\n",
      " 20  long                     344757 non-null  float64\n",
      " 21  state                    346479 non-null  object \n",
      "dtypes: float64(3), int64(10), object(9)\n",
      "memory usage: 58.2+ MB\n"
     ]
    }
   ],
   "source": [
    "df_propiedades.info()"
   ]
  },
  {
   "cell_type": "code",
   "execution_count": 44,
   "metadata": {},
   "outputs": [
    {
     "data": {
      "text/html": [
       "<div>\n",
       "<style scoped>\n",
       "    .dataframe tbody tr th:only-of-type {\n",
       "        vertical-align: middle;\n",
       "    }\n",
       "\n",
       "    .dataframe tbody tr th {\n",
       "        vertical-align: top;\n",
       "    }\n",
       "\n",
       "    .dataframe thead th {\n",
       "        text-align: right;\n",
       "    }\n",
       "</style>\n",
       "<table border=\"1\" class=\"dataframe\">\n",
       "  <thead>\n",
       "    <tr style=\"text-align: right;\">\n",
       "      <th></th>\n",
       "      <th>id</th>\n",
       "      <th>price</th>\n",
       "      <th>sqfeet</th>\n",
       "      <th>beds</th>\n",
       "      <th>baths</th>\n",
       "      <th>cats_allowed</th>\n",
       "      <th>dogs_allowed</th>\n",
       "      <th>smoking_allowed</th>\n",
       "      <th>wheelchair_access</th>\n",
       "      <th>electric_vehicle_charge</th>\n",
       "      <th>comes_furnished</th>\n",
       "      <th>lat</th>\n",
       "      <th>long</th>\n",
       "    </tr>\n",
       "  </thead>\n",
       "  <tbody>\n",
       "    <tr>\n",
       "      <th>count</th>\n",
       "      <td>3.464790e+05</td>\n",
       "      <td>3.464790e+05</td>\n",
       "      <td>3.464790e+05</td>\n",
       "      <td>346479.000000</td>\n",
       "      <td>346479.000000</td>\n",
       "      <td>346479.000000</td>\n",
       "      <td>346479.000000</td>\n",
       "      <td>346479.000000</td>\n",
       "      <td>346479.00000</td>\n",
       "      <td>346479.000000</td>\n",
       "      <td>346479.000000</td>\n",
       "      <td>344757.000000</td>\n",
       "      <td>344757.000000</td>\n",
       "    </tr>\n",
       "    <tr>\n",
       "      <th>mean</th>\n",
       "      <td>7.040988e+09</td>\n",
       "      <td>9.664420e+03</td>\n",
       "      <td>1.066326e+03</td>\n",
       "      <td>1.903189</td>\n",
       "      <td>1.480339</td>\n",
       "      <td>0.726803</td>\n",
       "      <td>0.707861</td>\n",
       "      <td>0.731738</td>\n",
       "      <td>0.08197</td>\n",
       "      <td>0.012792</td>\n",
       "      <td>0.048141</td>\n",
       "      <td>37.234363</td>\n",
       "      <td>-92.705415</td>\n",
       "    </tr>\n",
       "    <tr>\n",
       "      <th>std</th>\n",
       "      <td>8.802214e+06</td>\n",
       "      <td>4.703573e+06</td>\n",
       "      <td>2.018537e+04</td>\n",
       "      <td>3.162685</td>\n",
       "      <td>0.608246</td>\n",
       "      <td>0.445602</td>\n",
       "      <td>0.454746</td>\n",
       "      <td>0.443055</td>\n",
       "      <td>0.27432</td>\n",
       "      <td>0.112374</td>\n",
       "      <td>0.214065</td>\n",
       "      <td>5.550956</td>\n",
       "      <td>16.551071</td>\n",
       "    </tr>\n",
       "    <tr>\n",
       "      <th>min</th>\n",
       "      <td>7.003808e+09</td>\n",
       "      <td>0.000000e+00</td>\n",
       "      <td>0.000000e+00</td>\n",
       "      <td>0.000000</td>\n",
       "      <td>0.000000</td>\n",
       "      <td>0.000000</td>\n",
       "      <td>0.000000</td>\n",
       "      <td>0.000000</td>\n",
       "      <td>0.00000</td>\n",
       "      <td>0.000000</td>\n",
       "      <td>0.000000</td>\n",
       "      <td>-43.533300</td>\n",
       "      <td>-163.894000</td>\n",
       "    </tr>\n",
       "    <tr>\n",
       "      <th>25%</th>\n",
       "      <td>7.035988e+09</td>\n",
       "      <td>8.050000e+02</td>\n",
       "      <td>7.500000e+02</td>\n",
       "      <td>1.000000</td>\n",
       "      <td>1.000000</td>\n",
       "      <td>0.000000</td>\n",
       "      <td>0.000000</td>\n",
       "      <td>0.000000</td>\n",
       "      <td>0.00000</td>\n",
       "      <td>0.000000</td>\n",
       "      <td>0.000000</td>\n",
       "      <td>33.453100</td>\n",
       "      <td>-100.784000</td>\n",
       "    </tr>\n",
       "    <tr>\n",
       "      <th>50%</th>\n",
       "      <td>7.043325e+09</td>\n",
       "      <td>1.036000e+03</td>\n",
       "      <td>9.490000e+02</td>\n",
       "      <td>2.000000</td>\n",
       "      <td>1.000000</td>\n",
       "      <td>1.000000</td>\n",
       "      <td>1.000000</td>\n",
       "      <td>1.000000</td>\n",
       "      <td>0.00000</td>\n",
       "      <td>0.000000</td>\n",
       "      <td>0.000000</td>\n",
       "      <td>37.650100</td>\n",
       "      <td>-87.710800</td>\n",
       "    </tr>\n",
       "    <tr>\n",
       "      <th>75%</th>\n",
       "      <td>7.048431e+09</td>\n",
       "      <td>1.395000e+03</td>\n",
       "      <td>1.150000e+03</td>\n",
       "      <td>2.000000</td>\n",
       "      <td>2.000000</td>\n",
       "      <td>1.000000</td>\n",
       "      <td>1.000000</td>\n",
       "      <td>1.000000</td>\n",
       "      <td>0.00000</td>\n",
       "      <td>0.000000</td>\n",
       "      <td>0.000000</td>\n",
       "      <td>41.137900</td>\n",
       "      <td>-81.174600</td>\n",
       "    </tr>\n",
       "    <tr>\n",
       "      <th>max</th>\n",
       "      <td>7.051292e+09</td>\n",
       "      <td>2.768307e+09</td>\n",
       "      <td>8.388607e+06</td>\n",
       "      <td>1100.000000</td>\n",
       "      <td>75.000000</td>\n",
       "      <td>1.000000</td>\n",
       "      <td>1.000000</td>\n",
       "      <td>1.000000</td>\n",
       "      <td>1.00000</td>\n",
       "      <td>1.000000</td>\n",
       "      <td>1.000000</td>\n",
       "      <td>102.036000</td>\n",
       "      <td>172.633000</td>\n",
       "    </tr>\n",
       "  </tbody>\n",
       "</table>\n",
       "</div>"
      ],
      "text/plain": [
       "                 id         price        sqfeet           beds          baths  \\\n",
       "count  3.464790e+05  3.464790e+05  3.464790e+05  346479.000000  346479.000000   \n",
       "mean   7.040988e+09  9.664420e+03  1.066326e+03       1.903189       1.480339   \n",
       "std    8.802214e+06  4.703573e+06  2.018537e+04       3.162685       0.608246   \n",
       "min    7.003808e+09  0.000000e+00  0.000000e+00       0.000000       0.000000   \n",
       "25%    7.035988e+09  8.050000e+02  7.500000e+02       1.000000       1.000000   \n",
       "50%    7.043325e+09  1.036000e+03  9.490000e+02       2.000000       1.000000   \n",
       "75%    7.048431e+09  1.395000e+03  1.150000e+03       2.000000       2.000000   \n",
       "max    7.051292e+09  2.768307e+09  8.388607e+06    1100.000000      75.000000   \n",
       "\n",
       "        cats_allowed   dogs_allowed  smoking_allowed  wheelchair_access  \\\n",
       "count  346479.000000  346479.000000    346479.000000       346479.00000   \n",
       "mean        0.726803       0.707861         0.731738            0.08197   \n",
       "std         0.445602       0.454746         0.443055            0.27432   \n",
       "min         0.000000       0.000000         0.000000            0.00000   \n",
       "25%         0.000000       0.000000         0.000000            0.00000   \n",
       "50%         1.000000       1.000000         1.000000            0.00000   \n",
       "75%         1.000000       1.000000         1.000000            0.00000   \n",
       "max         1.000000       1.000000         1.000000            1.00000   \n",
       "\n",
       "       electric_vehicle_charge  comes_furnished            lat           long  \n",
       "count            346479.000000    346479.000000  344757.000000  344757.000000  \n",
       "mean                  0.012792         0.048141      37.234363     -92.705415  \n",
       "std                   0.112374         0.214065       5.550956      16.551071  \n",
       "min                   0.000000         0.000000     -43.533300    -163.894000  \n",
       "25%                   0.000000         0.000000      33.453100    -100.784000  \n",
       "50%                   0.000000         0.000000      37.650100     -87.710800  \n",
       "75%                   0.000000         0.000000      41.137900     -81.174600  \n",
       "max                   1.000000         1.000000     102.036000     172.633000  "
      ]
     },
     "execution_count": 44,
     "metadata": {},
     "output_type": "execute_result"
    }
   ],
   "source": [
    "df_propiedades.describe()"
   ]
  },
  {
   "attachments": {},
   "cell_type": "markdown",
   "metadata": {},
   "source": [
    "### Despues de un analisis exploratorio inicial procedemos a borar las columnas, url, region_url, image_url ya que estas urls no brindan informacion relevante para el modelo"
   ]
  },
  {
   "cell_type": "code",
   "execution_count": 45,
   "metadata": {},
   "outputs": [],
   "source": [
    "df_propiedades.drop(['url','region_url','image_url'], axis=1, inplace=True)"
   ]
  },
  {
   "attachments": {},
   "cell_type": "markdown",
   "metadata": {},
   "source": [
    "### Realizamos una segunda exploracion mas detallada"
   ]
  },
  {
   "cell_type": "code",
   "execution_count": 46,
   "metadata": {},
   "outputs": [
    {
     "name": "stdout",
     "output_type": "stream",
     "text": [
      "<class 'pandas.core.frame.DataFrame'>\n",
      "RangeIndex: 346479 entries, 0 to 346478\n",
      "Data columns (total 19 columns):\n",
      " #   Column                   Non-Null Count   Dtype  \n",
      "---  ------                   --------------   -----  \n",
      " 0   id                       346479 non-null  int64  \n",
      " 1   region                   346479 non-null  object \n",
      " 2   price                    346479 non-null  int64  \n",
      " 3   type                     346479 non-null  object \n",
      " 4   sqfeet                   346479 non-null  int64  \n",
      " 5   beds                     346479 non-null  int64  \n",
      " 6   baths                    346479 non-null  float64\n",
      " 7   cats_allowed             346479 non-null  int64  \n",
      " 8   dogs_allowed             346479 non-null  int64  \n",
      " 9   smoking_allowed          346479 non-null  int64  \n",
      " 10  wheelchair_access        346479 non-null  int64  \n",
      " 11  electric_vehicle_charge  346479 non-null  int64  \n",
      " 12  comes_furnished          346479 non-null  int64  \n",
      " 13  laundry_options          275308 non-null  object \n",
      " 14  parking_options          219797 non-null  object \n",
      " 15  description              346477 non-null  object \n",
      " 16  lat                      344757 non-null  float64\n",
      " 17  long                     344757 non-null  float64\n",
      " 18  state                    346479 non-null  object \n",
      "dtypes: float64(3), int64(10), object(6)\n",
      "memory usage: 50.2+ MB\n"
     ]
    }
   ],
   "source": [
    "df_propiedades.info()"
   ]
  },
  {
   "attachments": {},
   "cell_type": "markdown",
   "metadata": {},
   "source": [
    "### Eliminamos columnas redundantes, contamos con region, state, Long y Lat deteminamos eliminar region y state, quedarnos con Long y Lat"
   ]
  },
  {
   "cell_type": "code",
   "execution_count": 47,
   "metadata": {},
   "outputs": [],
   "source": [
    "df_propiedades.drop(['region','state'], axis=1, inplace=True)"
   ]
  },
  {
   "attachments": {},
   "cell_type": "markdown",
   "metadata": {},
   "source": [
    "### Realizamos una verificacion de la columna 'description' y notamos que es un tecuento de los atributos de las demas variable"
   ]
  },
  {
   "cell_type": "code",
   "execution_count": 48,
   "metadata": {},
   "outputs": [],
   "source": [
    "df_propiedades.drop(['description'], axis=1, inplace=True)"
   ]
  },
  {
   "attachments": {},
   "cell_type": "markdown",
   "metadata": {},
   "source": [
    "### Eleminamos valores duplicados"
   ]
  },
  {
   "cell_type": "code",
   "execution_count": 49,
   "metadata": {},
   "outputs": [],
   "source": [
    "df_propiedades = df_propiedades.drop_duplicates()"
   ]
  },
  {
   "cell_type": "code",
   "execution_count": 50,
   "metadata": {},
   "outputs": [
    {
     "name": "stdout",
     "output_type": "stream",
     "text": [
      "<class 'pandas.core.frame.DataFrame'>\n",
      "Int64Index: 346479 entries, 0 to 346478\n",
      "Data columns (total 16 columns):\n",
      " #   Column                   Non-Null Count   Dtype  \n",
      "---  ------                   --------------   -----  \n",
      " 0   id                       346479 non-null  int64  \n",
      " 1   price                    346479 non-null  int64  \n",
      " 2   type                     346479 non-null  object \n",
      " 3   sqfeet                   346479 non-null  int64  \n",
      " 4   beds                     346479 non-null  int64  \n",
      " 5   baths                    346479 non-null  float64\n",
      " 6   cats_allowed             346479 non-null  int64  \n",
      " 7   dogs_allowed             346479 non-null  int64  \n",
      " 8   smoking_allowed          346479 non-null  int64  \n",
      " 9   wheelchair_access        346479 non-null  int64  \n",
      " 10  electric_vehicle_charge  346479 non-null  int64  \n",
      " 11  comes_furnished          346479 non-null  int64  \n",
      " 12  laundry_options          275308 non-null  object \n",
      " 13  parking_options          219797 non-null  object \n",
      " 14  lat                      344757 non-null  float64\n",
      " 15  long                     344757 non-null  float64\n",
      "dtypes: float64(3), int64(10), object(3)\n",
      "memory usage: 44.9+ MB\n"
     ]
    }
   ],
   "source": [
    "df_propiedades.info()"
   ]
  },
  {
   "attachments": {},
   "cell_type": "markdown",
   "metadata": {},
   "source": [
    "### Realizamos validacion de las propiedades que tiene valores de 0, determinamos que podrian generar sesgo en el modelo y las eliminamos"
   ]
  },
  {
   "cell_type": "code",
   "execution_count": 51,
   "metadata": {},
   "outputs": [],
   "source": [
    "verificar = df_propiedades.price == 0"
   ]
  },
  {
   "cell_type": "code",
   "execution_count": 52,
   "metadata": {},
   "outputs": [
    {
     "data": {
      "text/plain": [
       "id                         1175\n",
       "price                      1175\n",
       "type                       1175\n",
       "sqfeet                     1175\n",
       "beds                       1175\n",
       "baths                      1175\n",
       "cats_allowed               1175\n",
       "dogs_allowed               1175\n",
       "smoking_allowed            1175\n",
       "wheelchair_access          1175\n",
       "electric_vehicle_charge    1175\n",
       "comes_furnished            1175\n",
       "laundry_options             996\n",
       "parking_options             824\n",
       "lat                        1167\n",
       "long                       1167\n",
       "dtype: int64"
      ]
     },
     "execution_count": 52,
     "metadata": {},
     "output_type": "execute_result"
    }
   ],
   "source": [
    "df_propiedades[verificar].count()"
   ]
  },
  {
   "cell_type": "code",
   "execution_count": 53,
   "metadata": {},
   "outputs": [],
   "source": [
    "## Realizamos la eliminacion de los valores 0 de la columna price\n",
    "df_propiedades.drop(df_propiedades[(df_propiedades['price'] == 0)].index, inplace=True)"
   ]
  },
  {
   "attachments": {},
   "cell_type": "markdown",
   "metadata": {},
   "source": [
    "### Verificamos variable 'laundry_options' una de la variables con mas nulos, y determinamos "
   ]
  },
  {
   "cell_type": "code",
   "execution_count": 54,
   "metadata": {},
   "outputs": [
    {
     "data": {
      "text/plain": [
       "70992"
      ]
     },
     "execution_count": 54,
     "metadata": {},
     "output_type": "execute_result"
    }
   ],
   "source": [
    "df_propiedades['laundry_options'].isnull().sum()"
   ]
  },
  {
   "cell_type": "code",
   "execution_count": 55,
   "metadata": {},
   "outputs": [
    {
     "data": {
      "text/plain": [
       "w/d in unit           118254\n",
       "w/d hookups            67807\n",
       "laundry on site        52599\n",
       "laundry in bldg        32375\n",
       "no laundry on site      3277\n",
       "Name: laundry_options, dtype: int64"
      ]
     },
     "execution_count": 55,
     "metadata": {},
     "output_type": "execute_result"
    }
   ],
   "source": [
    "df_propiedades['laundry_options'].value_counts()"
   ]
  },
  {
   "attachments": {},
   "cell_type": "markdown",
   "metadata": {},
   "source": [
    "### Verificamos variable 'parking_options' una de la variables con mas nulos, y determinamos "
   ]
  },
  {
   "cell_type": "code",
   "execution_count": 56,
   "metadata": {},
   "outputs": [
    {
     "data": {
      "text/plain": [
       "126331"
      ]
     },
     "execution_count": 56,
     "metadata": {},
     "output_type": "execute_result"
    }
   ],
   "source": [
    "df_propiedades['parking_options'].isnull().sum()"
   ]
  },
  {
   "cell_type": "code",
   "execution_count": 57,
   "metadata": {},
   "outputs": [
    {
     "data": {
      "text/plain": [
       "off-street parking    115185\n",
       "attached garage        36328\n",
       "carport                34818\n",
       "detached garage        15266\n",
       "street parking         14358\n",
       "no parking              2875\n",
       "valet parking            143\n",
       "Name: parking_options, dtype: int64"
      ]
     },
     "execution_count": 57,
     "metadata": {},
     "output_type": "execute_result"
    }
   ],
   "source": [
    "df_propiedades['parking_options'].value_counts()"
   ]
  },
  {
   "attachments": {},
   "cell_type": "markdown",
   "metadata": {},
   "source": [
    "### Elaboro dos dataset, uno dejando los valores nulos y el otro borardo los valores nulos para verificar un mejor modelo"
   ]
  },
  {
   "cell_type": "code",
   "execution_count": 58,
   "metadata": {},
   "outputs": [],
   "source": [
    "df_sinull = df_propiedades.dropna()\n",
    "df_conull = df_propiedades"
   ]
  },
  {
   "attachments": {},
   "cell_type": "markdown",
   "metadata": {},
   "source": [
    "# Pasamos a realizar las normalizaciones de las variables,\\\\ \n",
    "## Vamos a realizar una funcion para realizar las normalizaciones de los dataset"
   ]
  },
  {
   "cell_type": "code",
   "execution_count": 59,
   "metadata": {},
   "outputs": [],
   "source": [
    "## Importamos la libreria sklearn para realizar procesos de normalizacion \n",
    "import numpy as np\n",
    "import matplotlib.pyplot as plt\n",
    "import sklearn \n",
    "import seaborn as sns"
   ]
  },
  {
   "cell_type": "code",
   "execution_count": 60,
   "metadata": {},
   "outputs": [],
   "source": [
    "def transform(dataset):\n",
    "    ## importamos libreria para realizar normalizacion\n",
    "    from sklearn import preprocessing\n",
    "\n",
    "    ## declaramos la variable LabelEncoder para realizar las transformaciones\n",
    "    le = preprocessing.LabelEncoder()\n",
    "\n",
    "    ## Aplicamos las transformaciones a las variables, Type, laundry_options, parking_options\n",
    "    dataset['type_le'] = le.fit_transform(dataset['type'])\n",
    "    dataset['laundry_options_le'] = le.fit_transform(dataset['laundry_options'])\n",
    "    dataset['parking_options_le'] = le.fit_transform(dataset['parking_options'])\n",
    "\n",
    "    ## Eliminamos las columnas de la cuales himos las normalizaciones\n",
    "    dataset.drop(['id','type','laundry_options','parking_options'], axis=1, inplace=True)\n",
    "\n",
    "    ##Creamos la nueva columna category_price donde definimos los valores de la variable, solicitados\n",
    "    ## low = 1\n",
    "    ## not low = 0\n",
    "    dataset['category_price'] = [1 if s <= 999 else 0 for s in dataset['price']]\n",
    "\n",
    "    return dataset\n",
    "    \n",
    "    "
   ]
  },
  {
   "cell_type": "code",
   "execution_count": 61,
   "metadata": {},
   "outputs": [
    {
     "name": "stderr",
     "output_type": "stream",
     "text": [
      "C:\\Users\\crist\\AppData\\Local\\Temp\\ipykernel_13656\\1202550754.py:1: SettingWithCopyWarning: \n",
      "A value is trying to be set on a copy of a slice from a DataFrame\n",
      "\n",
      "See the caveats in the documentation: https://pandas.pydata.org/pandas-docs/stable/user_guide/indexing.html#returning-a-view-versus-a-copy\n",
      "  df_sinull.drop(['lat','long'], axis=1, inplace=True)\n"
     ]
    }
   ],
   "source": [
    "df_sinull.drop(['lat','long'], axis=1, inplace=True)"
   ]
  },
  {
   "attachments": {},
   "cell_type": "markdown",
   "metadata": {},
   "source": [
    "## Utilizamos nuestra funcion transform para nuestros dataset"
   ]
  },
  {
   "cell_type": "code",
   "execution_count": 62,
   "metadata": {},
   "outputs": [
    {
     "name": "stderr",
     "output_type": "stream",
     "text": [
      "C:\\Users\\crist\\AppData\\Local\\Temp\\ipykernel_13656\\1393497761.py:9: SettingWithCopyWarning: \n",
      "A value is trying to be set on a copy of a slice from a DataFrame.\n",
      "Try using .loc[row_indexer,col_indexer] = value instead\n",
      "\n",
      "See the caveats in the documentation: https://pandas.pydata.org/pandas-docs/stable/user_guide/indexing.html#returning-a-view-versus-a-copy\n",
      "  dataset['type_le'] = le.fit_transform(dataset['type'])\n",
      "C:\\Users\\crist\\AppData\\Local\\Temp\\ipykernel_13656\\1393497761.py:10: SettingWithCopyWarning: \n",
      "A value is trying to be set on a copy of a slice from a DataFrame.\n",
      "Try using .loc[row_indexer,col_indexer] = value instead\n",
      "\n",
      "See the caveats in the documentation: https://pandas.pydata.org/pandas-docs/stable/user_guide/indexing.html#returning-a-view-versus-a-copy\n",
      "  dataset['laundry_options_le'] = le.fit_transform(dataset['laundry_options'])\n",
      "C:\\Users\\crist\\AppData\\Local\\Temp\\ipykernel_13656\\1393497761.py:11: SettingWithCopyWarning: \n",
      "A value is trying to be set on a copy of a slice from a DataFrame.\n",
      "Try using .loc[row_indexer,col_indexer] = value instead\n",
      "\n",
      "See the caveats in the documentation: https://pandas.pydata.org/pandas-docs/stable/user_guide/indexing.html#returning-a-view-versus-a-copy\n",
      "  dataset['parking_options_le'] = le.fit_transform(dataset['parking_options'])\n",
      "C:\\Users\\crist\\AppData\\Local\\Temp\\ipykernel_13656\\1393497761.py:14: SettingWithCopyWarning: \n",
      "A value is trying to be set on a copy of a slice from a DataFrame\n",
      "\n",
      "See the caveats in the documentation: https://pandas.pydata.org/pandas-docs/stable/user_guide/indexing.html#returning-a-view-versus-a-copy\n",
      "  dataset.drop(['id','type','laundry_options','parking_options'], axis=1, inplace=True)\n",
      "C:\\Users\\crist\\AppData\\Local\\Temp\\ipykernel_13656\\1393497761.py:19: SettingWithCopyWarning: \n",
      "A value is trying to be set on a copy of a slice from a DataFrame.\n",
      "Try using .loc[row_indexer,col_indexer] = value instead\n",
      "\n",
      "See the caveats in the documentation: https://pandas.pydata.org/pandas-docs/stable/user_guide/indexing.html#returning-a-view-versus-a-copy\n",
      "  dataset['category_price'] = [1 if s <= 999 else 0 for s in dataset['price']]\n"
     ]
    }
   ],
   "source": [
    "df_sinull = transform(df_sinull)\n",
    "df_conull = transform(df_conull)"
   ]
  },
  {
   "attachments": {},
   "cell_type": "markdown",
   "metadata": {},
   "source": [
    "### verificamos si nuestra variable objetivo se encuentra balanceada"
   ]
  },
  {
   "cell_type": "code",
   "execution_count": 63,
   "metadata": {},
   "outputs": [
    {
     "data": {
      "image/png": "[encoded data removed]",
      "text/plain": [
       "<Figure size 640x480 with 1 Axes>"
      ]
     },
     "metadata": {},
     "output_type": "display_data"
    }
   ],
   "source": [
    "sns.countplot(x='category_price', data=df_sinull) \n",
    "plt.show()\n",
    "## Podemos verificar que nuestra variable objetivo se encuentra balanceada"
   ]
  },
  {
   "attachments": {},
   "cell_type": "markdown",
   "metadata": {},
   "source": [
    "### vamos a realizar un mapa de correlaciones para mirar las distribuciones de las variables"
   ]
  },
  {
   "cell_type": "code",
   "execution_count": 64,
   "metadata": {},
   "outputs": [],
   "source": [
    "## Creamos una funcion para realizar correlaciones \n",
    "def plot_corre_heatmap(df_corr):\n",
    "    # Quitamos el triangulo superior para facilitar la lectura\n",
    "    df_corr = df_corr.corr()\n",
    "    matrix = np.tril(np.ones(df_corr.shape)).astype(np.bool_)\n",
    "    df_corr = df_corr.where(matrix)\n",
    "\n",
    "    # Utilizamos el heatmap de seaborn para visualizar\n",
    "    sns.heatmap(df_corr, cmap=sns.diverging_palette(90, 20, as_cmap=True),\n",
    "            xticklabels=df_corr.columns.values,\n",
    "            yticklabels=df_corr.columns.values)"
   ]
  },
  {
   "attachments": {},
   "cell_type": "markdown",
   "metadata": {},
   "source": [
    "### graficamos el dataset sin nulos"
   ]
  },
  {
   "cell_type": "code",
   "execution_count": 65,
   "metadata": {},
   "outputs": [
    {
     "data": {
      "image/png": "[encoded data removed]",
      "text/plain": [
       "<Figure size 640x480 with 2 Axes>"
      ]
     },
     "metadata": {},
     "output_type": "display_data"
    }
   ],
   "source": [
    "plot_corre_heatmap(df_sinull)"
   ]
  },
  {
   "attachments": {},
   "cell_type": "markdown",
   "metadata": {},
   "source": [
    "### Hacemos un nuevo dataset con las variable que tienen correlacion"
   ]
  },
  {
   "cell_type": "code",
   "execution_count": 89,
   "metadata": {},
   "outputs": [],
   "source": [
    "df_corr_sinull = df_sinull[['sqfeet','beds','baths','smoking_allowed','wheelchair_access','type_le','laundry_options_le',\n",
    "       'parking_options_le','category_price']]"
   ]
  },
  {
   "cell_type": "code",
   "execution_count": 67,
   "metadata": {},
   "outputs": [
    {
     "data": {
      "image/png": "[encoded data removed]",
      "text/plain": [
       "<Figure size 640x480 with 2 Axes>"
      ]
     },
     "metadata": {},
     "output_type": "display_data"
    }
   ],
   "source": [
    "## graficamos una ves mas para mirar un poco mas al detalle\n",
    "plot_corre_heatmap(df_corr_sinull)"
   ]
  },
  {
   "attachments": {},
   "cell_type": "markdown",
   "metadata": {},
   "source": [
    "### instanciamos nuestras variables X, y para iniciar con el entrenamiento"
   ]
  },
  {
   "cell_type": "code",
   "execution_count": 92,
   "metadata": {},
   "outputs": [],
   "source": [
    "X = df_corr_sinull[['sqfeet','beds','baths','smoking_allowed','wheelchair_access','type_le','laundry_options_le',\n",
    "       'parking_options_le']]\n",
    "y = df_corr_sinull['category_price']"
   ]
  },
  {
   "attachments": {},
   "cell_type": "markdown",
   "metadata": {},
   "source": [
    "#### Hacemos validacion cruzada, con modelo Arboles de decicion "
   ]
  },
  {
   "cell_type": "code",
   "execution_count": 69,
   "metadata": {},
   "outputs": [
    {
     "name": "stdout",
     "output_type": "stream",
     "text": [
      "[0.748221   0.74621149 0.74647155 0.74580959 0.74273015]\n"
     ]
    }
   ],
   "source": [
    "## importamos nuestra libreria para el modelo arboles de decicion\n",
    "from sklearn.tree import DecisionTreeClassifier\n",
    "## Importamos libreria para validacion cruzada \n",
    "from sklearn.model_selection import cross_val_score\n",
    "## Instanciamos nuestra libreria\n",
    "arbol = DecisionTreeClassifier()\n",
    "## Realizamos nuestra validacion \n",
    "arbol_puntaje = cross_val_score(arbol, X, y, cv=5)\n",
    "## Miramos las puntuaciones\n",
    "print(arbol_puntaje)"
   ]
  },
  {
   "attachments": {},
   "cell_type": "markdown",
   "metadata": {},
   "source": [
    "### Ahora lo miramos con k-vecinos"
   ]
  },
  {
   "cell_type": "code",
   "execution_count": 70,
   "metadata": {},
   "outputs": [
    {
     "name": "stdout",
     "output_type": "stream",
     "text": [
      "[0.66680063 0.63479042 0.65630393 0.68337313 0.66253724]\n"
     ]
    }
   ],
   "source": [
    "## Importamos nuestro modelo\n",
    "from sklearn.neighbors import KNeighborsClassifier\n",
    "## Instanciamos nuestro modelo k-vecinos\n",
    "knn = KNeighborsClassifier(n_neighbors=1)\n",
    "##Realizamos validacion cruzada\n",
    "knn_puntaje = cross_val_score(knn, X, y, cv=5)\n",
    "## miramos nuestros puntajes\n",
    "print(knn_puntaje)"
   ]
  },
  {
   "attachments": {},
   "cell_type": "markdown",
   "metadata": {},
   "source": [
    "### lo intentamos con cross_validate"
   ]
  },
  {
   "cell_type": "code",
   "execution_count": 71,
   "metadata": {},
   "outputs": [
    {
     "name": "stdout",
     "output_type": "stream",
     "text": [
      "{'fit_time': array([0.61917996, 0.62191892, 0.49799061, 0.38177323, 0.44590163]), 'score_time': array([0.10592818, 0.1017983 , 0.09932113, 0.08608747, 0.10082006]), 'test_precision': array([0.72241305, 0.72041913, 0.7223425 , 0.72042432, 0.71510169]), 'test_recall': array([0.71070278, 0.70790432, 0.70464625, 0.7063886 , 0.70732351])}\n",
      "{'fit_time': array([1.23784995, 1.23929453, 1.18873405, 1.5675714 , 1.26335096]), 'score_time': array([25.27447605, 23.46458673, 24.31025171, 24.96132159, 27.2411871 ]), 'test_precision': array([0.59872845, 0.58414887, 0.60061254, 0.63470785, 0.6165842 ]), 'test_recall': array([0.77570093, 0.63979091, 0.693717  , 0.68996832, 0.65135435])}\n"
     ]
    }
   ],
   "source": [
    "from sklearn.model_selection import cross_validate\n",
    "arbol2_puntaje = cross_validate(arbol, X, y, cv=5, scoring = ['precision','recall'])\n",
    "knn_puntaje = cross_validate(knn, X, y, cv=5, scoring = ['precision','recall'])\n",
    "print(arbol2_puntaje)\n",
    "print(knn_puntaje)"
   ]
  },
  {
   "attachments": {},
   "cell_type": "markdown",
   "metadata": {},
   "source": [
    "### Voy hacer mi entrenamiento y voy a utilizar hiperparametros"
   ]
  },
  {
   "cell_type": "code",
   "execution_count": 93,
   "metadata": {},
   "outputs": [],
   "source": [
    "from sklearn.model_selection import train_test_split\n",
    "X_train, X_test, y_train, y_test = train_test_split(X, y, test_size=0.30, random_state=60, stratify=y)"
   ]
  },
  {
   "cell_type": "code",
   "execution_count": 74,
   "metadata": {},
   "outputs": [
    {
     "data": {
      "text/html": [
       "<style>#sk-container-id-1 {color: black;background-color: white;}#sk-container-id-1 pre{padding: 0;}#sk-container-id-1 div.sk-toggleable {background-color: white;}#sk-container-id-1 label.sk-toggleable__label {cursor: pointer;display: block;width: 100%;margin-bottom: 0;padding: 0.3em;box-sizing: border-box;text-align: center;}#sk-container-id-1 label.sk-toggleable__label-arrow:before {content: \"▸\";float: left;margin-right: 0.25em;color: #696969;}#sk-container-id-1 label.sk-toggleable__label-arrow:hover:before {color: black;}#sk-container-id-1 div.sk-estimator:hover label.sk-toggleable__label-arrow:before {color: black;}#sk-container-id-1 div.sk-toggleable__content {max-height: 0;max-width: 0;overflow: hidden;text-align: left;background-color: #f0f8ff;}#sk-container-id-1 div.sk-toggleable__content pre {margin: 0.2em;color: black;border-radius: 0.25em;background-color: #f0f8ff;}#sk-container-id-1 input.sk-toggleable__control:checked~div.sk-toggleable__content {max-height: 200px;max-width: 100%;overflow: auto;}#sk-container-id-1 input.sk-toggleable__control:checked~label.sk-toggleable__label-arrow:before {content: \"▾\";}#sk-container-id-1 div.sk-estimator input.sk-toggleable__control:checked~label.sk-toggleable__label {background-color: #d4ebff;}#sk-container-id-1 div.sk-label input.sk-toggleable__control:checked~label.sk-toggleable__label {background-color: #d4ebff;}#sk-container-id-1 input.sk-hidden--visually {border: 0;clip: rect(1px 1px 1px 1px);clip: rect(1px, 1px, 1px, 1px);height: 1px;margin: -1px;overflow: hidden;padding: 0;position: absolute;width: 1px;}#sk-container-id-1 div.sk-estimator {font-family: monospace;background-color: #f0f8ff;border: 1px dotted black;border-radius: 0.25em;box-sizing: border-box;margin-bottom: 0.5em;}#sk-container-id-1 div.sk-estimator:hover {background-color: #d4ebff;}#sk-container-id-1 div.sk-parallel-item::after {content: \"\";width: 100%;border-bottom: 1px solid gray;flex-grow: 1;}#sk-container-id-1 div.sk-label:hover label.sk-toggleable__label {background-color: #d4ebff;}#sk-container-id-1 div.sk-serial::before {content: \"\";position: absolute;border-left: 1px solid gray;box-sizing: border-box;top: 0;bottom: 0;left: 50%;z-index: 0;}#sk-container-id-1 div.sk-serial {display: flex;flex-direction: column;align-items: center;background-color: white;padding-right: 0.2em;padding-left: 0.2em;position: relative;}#sk-container-id-1 div.sk-item {position: relative;z-index: 1;}#sk-container-id-1 div.sk-parallel {display: flex;align-items: stretch;justify-content: center;background-color: white;position: relative;}#sk-container-id-1 div.sk-item::before, #sk-container-id-1 div.sk-parallel-item::before {content: \"\";position: absolute;border-left: 1px solid gray;box-sizing: border-box;top: 0;bottom: 0;left: 50%;z-index: -1;}#sk-container-id-1 div.sk-parallel-item {display: flex;flex-direction: column;z-index: 1;position: relative;background-color: white;}#sk-container-id-1 div.sk-parallel-item:first-child::after {align-self: flex-end;width: 50%;}#sk-container-id-1 div.sk-parallel-item:last-child::after {align-self: flex-start;width: 50%;}#sk-container-id-1 div.sk-parallel-item:only-child::after {width: 0;}#sk-container-id-1 div.sk-dashed-wrapped {border: 1px dashed gray;margin: 0 0.4em 0.5em 0.4em;box-sizing: border-box;padding-bottom: 0.4em;background-color: white;}#sk-container-id-1 div.sk-label label {font-family: monospace;font-weight: bold;display: inline-block;line-height: 1.2em;}#sk-container-id-1 div.sk-label-container {text-align: center;}#sk-container-id-1 div.sk-container {/* jupyter's `normalize.less` sets `[hidden] { display: none; }` but bootstrap.min.css set `[hidden] { display: none !important; }` so we also need the `!important` here to be able to override the default hidden behavior on the sphinx rendered scikit-learn.org. See: https://github.com/scikit-learn/scikit-learn/issues/21755 */display: inline-block !important;position: relative;}#sk-container-id-1 div.sk-text-repr-fallback {display: none;}</style><div id=\"sk-container-id-1\" class=\"sk-top-container\"><div class=\"sk-text-repr-fallback\"><pre>GridSearchCV(cv=5, estimator=KNeighborsClassifier(n_neighbors=1),\n",
       "             param_grid={&#x27;algorithm&#x27;: [&#x27;auto&#x27;, &#x27;kd_tree&#x27;],\n",
       "                         &#x27;leaf_size&#x27;: [1, 3, 5],\n",
       "                         &#x27;n_neighbors&#x27;: array([16, 17, 18, 19, 20, 21, 22, 23]),\n",
       "                         &#x27;weights&#x27;: [&#x27;uniform&#x27;, &#x27;distance&#x27;]})</pre><b>In a Jupyter environment, please rerun this cell to show the HTML representation or trust the notebook. <br />On GitHub, the HTML representation is unable to render, please try loading this page with nbviewer.org.</b></div><div class=\"sk-container\" hidden><div class=\"sk-item sk-dashed-wrapped\"><div class=\"sk-label-container\"><div class=\"sk-label sk-toggleable\"><input class=\"sk-toggleable__control sk-hidden--visually\" id=\"sk-estimator-id-1\" type=\"checkbox\" ><label for=\"sk-estimator-id-1\" class=\"sk-toggleable__label sk-toggleable__label-arrow\">GridSearchCV</label><div class=\"sk-toggleable__content\"><pre>GridSearchCV(cv=5, estimator=KNeighborsClassifier(n_neighbors=1),\n",
       "             param_grid={&#x27;algorithm&#x27;: [&#x27;auto&#x27;, &#x27;kd_tree&#x27;],\n",
       "                         &#x27;leaf_size&#x27;: [1, 3, 5],\n",
       "                         &#x27;n_neighbors&#x27;: array([16, 17, 18, 19, 20, 21, 22, 23]),\n",
       "                         &#x27;weights&#x27;: [&#x27;uniform&#x27;, &#x27;distance&#x27;]})</pre></div></div></div><div class=\"sk-parallel\"><div class=\"sk-parallel-item\"><div class=\"sk-item\"><div class=\"sk-label-container\"><div class=\"sk-label sk-toggleable\"><input class=\"sk-toggleable__control sk-hidden--visually\" id=\"sk-estimator-id-2\" type=\"checkbox\" ><label for=\"sk-estimator-id-2\" class=\"sk-toggleable__label sk-toggleable__label-arrow\">estimator: KNeighborsClassifier</label><div class=\"sk-toggleable__content\"><pre>KNeighborsClassifier(n_neighbors=1)</pre></div></div></div><div class=\"sk-serial\"><div class=\"sk-item\"><div class=\"sk-estimator sk-toggleable\"><input class=\"sk-toggleable__control sk-hidden--visually\" id=\"sk-estimator-id-3\" type=\"checkbox\" ><label for=\"sk-estimator-id-3\" class=\"sk-toggleable__label sk-toggleable__label-arrow\">KNeighborsClassifier</label><div class=\"sk-toggleable__content\"><pre>KNeighborsClassifier(n_neighbors=1)</pre></div></div></div></div></div></div></div></div></div></div>"
      ],
      "text/plain": [
       "GridSearchCV(cv=5, estimator=KNeighborsClassifier(n_neighbors=1),\n",
       "             param_grid={'algorithm': ['auto', 'kd_tree'],\n",
       "                         'leaf_size': [1, 3, 5],\n",
       "                         'n_neighbors': array([16, 17, 18, 19, 20, 21, 22, 23]),\n",
       "                         'weights': ['uniform', 'distance']})"
      ]
     },
     "execution_count": 74,
     "metadata": {},
     "output_type": "execute_result"
    }
   ],
   "source": [
    "from sklearn.model_selection import GridSearchCV\n",
    "from IPython.display import clear_output\n",
    "param_grid = {'n_neighbors':np.arange(16, 24),\n",
    "              'weights': ['uniform', 'distance'], \n",
    "              'leaf_size':[1,3,5],\n",
    "              'algorithm':['auto', 'kd_tree']}\n",
    "\n",
    "model = GridSearchCV(knn, param_grid=param_grid, cv=5)\n",
    "clear_output(wait=True)\n",
    "# Entrenamos\n",
    "model.fit(X_train, y_train)\n"
   ]
  },
  {
   "cell_type": "code",
   "execution_count": 75,
   "metadata": {},
   "outputs": [
    {
     "name": "stdout",
     "output_type": "stream",
     "text": [
      "Mejores hiperparámetros: {'algorithm': 'auto', 'leaf_size': 3, 'n_neighbors': 23, 'weights': 'distance'}\n",
      "Mejor Score: 0.7376000540376236\n",
      "\n"
     ]
    }
   ],
   "source": [
    "print(\"Mejores hiperparámetros: \"+str(model.best_params_))\n",
    "print(\"Mejor Score: \"+str(model.best_score_)+'\\n')"
   ]
  },
  {
   "cell_type": "code",
   "execution_count": 94,
   "metadata": {},
   "outputs": [
    {
     "name": "stdout",
     "output_type": "stream",
     "text": [
      "Desempeño del modelo para el Training set:  0.9112499577831065\n",
      "Desempeño del modelo para el Test set:  0.8471213100285269\n"
     ]
    }
   ],
   "source": [
    "from sklearn.metrics import accuracy_score\n",
    "knn = KNeighborsClassifier(algorithm='auto', leaf_size= 3, n_neighbors =23, weights='distance')\n",
    "\n",
    "from sklearn.model_selection import train_test_split\n",
    "X_train, X_test, y_train, y_test = train_test_split(X, y, test_size=0.30, random_state=60, stratify=y)\n",
    "\n",
    "# Se entrena el modelo\n",
    "knn.fit(X_train, y_train)\n",
    "\n",
    "# Predicciones\n",
    "y_train_pred = knn.predict(X_train)\n",
    "y_test_pred = knn.predict(X_test)\n",
    "\n",
    "# Desempeño del modelo en train, calculando la precisión (accuracy)\n",
    "knn_train_accuracy = accuracy_score(y_train, y_train_pred)\n",
    "\n",
    "# Desempeño del modelo en test, calculando la precisión (accuracy)\n",
    "knn_test_accuracy = accuracy_score(y_test, y_test_pred)\n",
    "\n",
    "print('Desempeño del modelo para el Training set: ',knn_train_accuracy)\n",
    "print('Desempeño del modelo para el Test set: ',knn_test_accuracy)"
   ]
  },
  {
   "cell_type": "code",
   "execution_count": 95,
   "metadata": {},
   "outputs": [],
   "source": [
    "df_test = pd.read_parquet('./test.parquet')"
   ]
  },
  {
   "cell_type": "code",
   "execution_count": 96,
   "metadata": {},
   "outputs": [],
   "source": [
    "def data_test(df_test):\n",
    "    df_test.drop(['url','region_url','image_url'], axis=1, inplace=True)\n",
    "    df_test.drop(['region','state'], axis=1, inplace=True)\n",
    "    df_test.drop(['description'], axis=1, inplace=True)\n",
    "    from sklearn import preprocessing\n",
    "    le = preprocessing.LabelEncoder()\n",
    "    df_test['type_le'] = le.fit_transform(df_test['type'])\n",
    "    df_test['laundry_options_le'] = le.fit_transform(df_test['laundry_options'])\n",
    "    df_test['parking_options_le'] = le.fit_transform(df_test['parking_options'])\n",
    "    df_test.drop(['id','type','laundry_options','parking_options'], axis=1, inplace=True)\n",
    "    df_test.drop(['lat','long'], axis=1, inplace=True)\n",
    "    df_test = df_test[['sqfeet','beds','baths','smoking_allowed','wheelchair_access','type_le','laundry_options_le',\n",
    "       'parking_options_le']]\n",
    "    \n",
    "    return df_test"
   ]
  },
  {
   "cell_type": "code",
   "execution_count": 97,
   "metadata": {},
   "outputs": [],
   "source": [
    "df_test = data_test(df_test)\n",
    "test_pred = knn.predict(df_test)\n",
    "pred_csv = pd.DataFrame(test_pred)\n",
    "pred_csv.to_csv('C:\\\\Users\\\\crist\\\\OneDrive\\\\Desktop\\\\Carolina\\\\Alemax019.csv',index=False)"
   ]
  }
 ],
 "metadata": {
  "kernelspec": {
   "display_name": "Python 3",
   "language": "python",
   "name": "python3"
  },
  "language_info": {
   "codemirror_mode": {
    "name": "ipython",
    "version": 3
   },
   "file_extension": ".py",
   "mimetype": "text/x-python",
   "name": "python",
   "nbconvert_exporter": "python",
   "pygments_lexer": "ipython3",
   "version": "3.10.9"
  },
  "orig_nbformat": 4,
  "vscode": {
   "interpreter": {
    "hash": "d2cebceb6c68f4ea04f0cb4e6546cfb3722fb6cf73137fe815b750b1ee1a9c58"
   }
  }
 },
 "nbformat": 4,
 "nbformat_minor": 2
}

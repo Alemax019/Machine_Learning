{
 "cells": [
  {
   "attachments": {},
   "cell_type": "markdown",
   "metadata": {},
   "source": [
    "# Realizamos la importacion del archivo Parquet"
   ]
  },
  {
   "cell_type": "code",
   "execution_count": 1,
   "metadata": {},
   "outputs": [],
   "source": [
    "import pandas as pd"
   ]
  },
  {
   "cell_type": "code",
   "execution_count": 2,
   "metadata": {},
   "outputs": [],
   "source": [
    "df_propiedades = pd.read_parquet('./train.parquet')"
   ]
  },
  {
   "attachments": {},
   "cell_type": "markdown",
   "metadata": {},
   "source": [
    "# Realizamos exploracion de los datos"
   ]
  },
  {
   "cell_type": "code",
   "execution_count": 3,
   "metadata": {},
   "outputs": [
    {
     "data": {
      "text/html": [
       "<div>\n",
       "<style scoped>\n",
       "    .dataframe tbody tr th:only-of-type {\n",
       "        vertical-align: middle;\n",
       "    }\n",
       "\n",
       "    .dataframe tbody tr th {\n",
       "        vertical-align: top;\n",
       "    }\n",
       "\n",
       "    .dataframe thead th {\n",
       "        text-align: right;\n",
       "    }\n",
       "</style>\n",
       "<table border=\"1\" class=\"dataframe\">\n",
       "  <thead>\n",
       "    <tr style=\"text-align: right;\">\n",
       "      <th></th>\n",
       "      <th>id</th>\n",
       "      <th>url</th>\n",
       "      <th>region</th>\n",
       "      <th>region_url</th>\n",
       "      <th>price</th>\n",
       "      <th>type</th>\n",
       "      <th>sqfeet</th>\n",
       "      <th>beds</th>\n",
       "      <th>baths</th>\n",
       "      <th>cats_allowed</th>\n",
       "      <th>...</th>\n",
       "      <th>wheelchair_access</th>\n",
       "      <th>electric_vehicle_charge</th>\n",
       "      <th>comes_furnished</th>\n",
       "      <th>laundry_options</th>\n",
       "      <th>parking_options</th>\n",
       "      <th>image_url</th>\n",
       "      <th>description</th>\n",
       "      <th>lat</th>\n",
       "      <th>long</th>\n",
       "      <th>state</th>\n",
       "    </tr>\n",
       "  </thead>\n",
       "  <tbody>\n",
       "    <tr>\n",
       "      <th>0</th>\n",
       "      <td>7048013474</td>\n",
       "      <td>https://boise.craigslist.org/apa/d/very-nice-b...</td>\n",
       "      <td>boise</td>\n",
       "      <td>https://boise.craigslist.org</td>\n",
       "      <td>1350</td>\n",
       "      <td>house</td>\n",
       "      <td>1200</td>\n",
       "      <td>2</td>\n",
       "      <td>2.0</td>\n",
       "      <td>1</td>\n",
       "      <td>...</td>\n",
       "      <td>0</td>\n",
       "      <td>0</td>\n",
       "      <td>0</td>\n",
       "      <td>w/d in unit</td>\n",
       "      <td>detached garage</td>\n",
       "      <td>https://images.craigslist.org/00B0B_cPiJMEheZe...</td>\n",
       "      <td>Super cute row house in the Boise bench area. ...</td>\n",
       "      <td>43.5851</td>\n",
       "      <td>-116.225</td>\n",
       "      <td>id</td>\n",
       "    </tr>\n",
       "    <tr>\n",
       "      <th>1</th>\n",
       "      <td>7043931179</td>\n",
       "      <td>https://cosprings.craigslist.org/apa/d/colorad...</td>\n",
       "      <td>colorado springs</td>\n",
       "      <td>https://cosprings.craigslist.org</td>\n",
       "      <td>1115</td>\n",
       "      <td>apartment</td>\n",
       "      <td>694</td>\n",
       "      <td>1</td>\n",
       "      <td>1.0</td>\n",
       "      <td>1</td>\n",
       "      <td>...</td>\n",
       "      <td>0</td>\n",
       "      <td>0</td>\n",
       "      <td>0</td>\n",
       "      <td>w/d in unit</td>\n",
       "      <td>carport</td>\n",
       "      <td>https://images.craigslist.org/00R0R_5XAoSKvfrz...</td>\n",
       "      <td>Windtree Apartment Homes currently has a spaci...</td>\n",
       "      <td>38.9137</td>\n",
       "      <td>-104.780</td>\n",
       "      <td>co</td>\n",
       "    </tr>\n",
       "  </tbody>\n",
       "</table>\n",
       "<p>2 rows × 22 columns</p>\n",
       "</div>"
      ],
      "text/plain": [
       "           id                                                url  \\\n",
       "0  7048013474  https://boise.craigslist.org/apa/d/very-nice-b...   \n",
       "1  7043931179  https://cosprings.craigslist.org/apa/d/colorad...   \n",
       "\n",
       "             region                        region_url  price       type  \\\n",
       "0             boise      https://boise.craigslist.org   1350      house   \n",
       "1  colorado springs  https://cosprings.craigslist.org   1115  apartment   \n",
       "\n",
       "   sqfeet  beds  baths  cats_allowed  ...  wheelchair_access  \\\n",
       "0    1200     2    2.0             1  ...                  0   \n",
       "1     694     1    1.0             1  ...                  0   \n",
       "\n",
       "   electric_vehicle_charge  comes_furnished  laundry_options  parking_options  \\\n",
       "0                        0                0      w/d in unit  detached garage   \n",
       "1                        0                0      w/d in unit          carport   \n",
       "\n",
       "                                           image_url  \\\n",
       "0  https://images.craigslist.org/00B0B_cPiJMEheZe...   \n",
       "1  https://images.craigslist.org/00R0R_5XAoSKvfrz...   \n",
       "\n",
       "                                         description      lat     long  state  \n",
       "0  Super cute row house in the Boise bench area. ...  43.5851 -116.225     id  \n",
       "1  Windtree Apartment Homes currently has a spaci...  38.9137 -104.780     co  \n",
       "\n",
       "[2 rows x 22 columns]"
      ]
     },
     "execution_count": 3,
     "metadata": {},
     "output_type": "execute_result"
    }
   ],
   "source": [
    "df_propiedades.head(2)"
   ]
  },
  {
   "cell_type": "code",
   "execution_count": 4,
   "metadata": {},
   "outputs": [
    {
     "name": "stdout",
     "output_type": "stream",
     "text": [
      "<class 'pandas.core.frame.DataFrame'>\n",
      "RangeIndex: 346479 entries, 0 to 346478\n",
      "Data columns (total 22 columns):\n",
      " #   Column                   Non-Null Count   Dtype  \n",
      "---  ------                   --------------   -----  \n",
      " 0   id                       346479 non-null  int64  \n",
      " 1   url                      346479 non-null  object \n",
      " 2   region                   346479 non-null  object \n",
      " 3   region_url               346479 non-null  object \n",
      " 4   price                    346479 non-null  int64  \n",
      " 5   type                     346479 non-null  object \n",
      " 6   sqfeet                   346479 non-null  int64  \n",
      " 7   beds                     346479 non-null  int64  \n",
      " 8   baths                    346479 non-null  float64\n",
      " 9   cats_allowed             346479 non-null  int64  \n",
      " 10  dogs_allowed             346479 non-null  int64  \n",
      " 11  smoking_allowed          346479 non-null  int64  \n",
      " 12  wheelchair_access        346479 non-null  int64  \n",
      " 13  electric_vehicle_charge  346479 non-null  int64  \n",
      " 14  comes_furnished          346479 non-null  int64  \n",
      " 15  laundry_options          275308 non-null  object \n",
      " 16  parking_options          219797 non-null  object \n",
      " 17  image_url                346479 non-null  object \n",
      " 18  description              346477 non-null  object \n",
      " 19  lat                      344757 non-null  float64\n",
      " 20  long                     344757 non-null  float64\n",
      " 21  state                    346479 non-null  object \n",
      "dtypes: float64(3), int64(10), object(9)\n",
      "memory usage: 58.2+ MB\n"
     ]
    }
   ],
   "source": [
    "df_propiedades.info()"
   ]
  },
  {
   "cell_type": "code",
   "execution_count": 5,
   "metadata": {},
   "outputs": [
    {
     "data": {
      "text/html": [
       "<div>\n",
       "<style scoped>\n",
       "    .dataframe tbody tr th:only-of-type {\n",
       "        vertical-align: middle;\n",
       "    }\n",
       "\n",
       "    .dataframe tbody tr th {\n",
       "        vertical-align: top;\n",
       "    }\n",
       "\n",
       "    .dataframe thead th {\n",
       "        text-align: right;\n",
       "    }\n",
       "</style>\n",
       "<table border=\"1\" class=\"dataframe\">\n",
       "  <thead>\n",
       "    <tr style=\"text-align: right;\">\n",
       "      <th></th>\n",
       "      <th>id</th>\n",
       "      <th>price</th>\n",
       "      <th>sqfeet</th>\n",
       "      <th>beds</th>\n",
       "      <th>baths</th>\n",
       "      <th>cats_allowed</th>\n",
       "      <th>dogs_allowed</th>\n",
       "      <th>smoking_allowed</th>\n",
       "      <th>wheelchair_access</th>\n",
       "      <th>electric_vehicle_charge</th>\n",
       "      <th>comes_furnished</th>\n",
       "      <th>lat</th>\n",
       "      <th>long</th>\n",
       "    </tr>\n",
       "  </thead>\n",
       "  <tbody>\n",
       "    <tr>\n",
       "      <th>count</th>\n",
       "      <td>3.464790e+05</td>\n",
       "      <td>3.464790e+05</td>\n",
       "      <td>3.464790e+05</td>\n",
       "      <td>346479.000000</td>\n",
       "      <td>346479.000000</td>\n",
       "      <td>346479.000000</td>\n",
       "      <td>346479.000000</td>\n",
       "      <td>346479.000000</td>\n",
       "      <td>346479.00000</td>\n",
       "      <td>346479.000000</td>\n",
       "      <td>346479.000000</td>\n",
       "      <td>344757.000000</td>\n",
       "      <td>344757.000000</td>\n",
       "    </tr>\n",
       "    <tr>\n",
       "      <th>mean</th>\n",
       "      <td>7.040988e+09</td>\n",
       "      <td>9.664420e+03</td>\n",
       "      <td>1.066326e+03</td>\n",
       "      <td>1.903189</td>\n",
       "      <td>1.480339</td>\n",
       "      <td>0.726803</td>\n",
       "      <td>0.707861</td>\n",
       "      <td>0.731738</td>\n",
       "      <td>0.08197</td>\n",
       "      <td>0.012792</td>\n",
       "      <td>0.048141</td>\n",
       "      <td>37.234363</td>\n",
       "      <td>-92.705415</td>\n",
       "    </tr>\n",
       "    <tr>\n",
       "      <th>std</th>\n",
       "      <td>8.802214e+06</td>\n",
       "      <td>4.703573e+06</td>\n",
       "      <td>2.018537e+04</td>\n",
       "      <td>3.162685</td>\n",
       "      <td>0.608246</td>\n",
       "      <td>0.445602</td>\n",
       "      <td>0.454746</td>\n",
       "      <td>0.443055</td>\n",
       "      <td>0.27432</td>\n",
       "      <td>0.112374</td>\n",
       "      <td>0.214065</td>\n",
       "      <td>5.550956</td>\n",
       "      <td>16.551071</td>\n",
       "    </tr>\n",
       "    <tr>\n",
       "      <th>min</th>\n",
       "      <td>7.003808e+09</td>\n",
       "      <td>0.000000e+00</td>\n",
       "      <td>0.000000e+00</td>\n",
       "      <td>0.000000</td>\n",
       "      <td>0.000000</td>\n",
       "      <td>0.000000</td>\n",
       "      <td>0.000000</td>\n",
       "      <td>0.000000</td>\n",
       "      <td>0.00000</td>\n",
       "      <td>0.000000</td>\n",
       "      <td>0.000000</td>\n",
       "      <td>-43.533300</td>\n",
       "      <td>-163.894000</td>\n",
       "    </tr>\n",
       "    <tr>\n",
       "      <th>25%</th>\n",
       "      <td>7.035988e+09</td>\n",
       "      <td>8.050000e+02</td>\n",
       "      <td>7.500000e+02</td>\n",
       "      <td>1.000000</td>\n",
       "      <td>1.000000</td>\n",
       "      <td>0.000000</td>\n",
       "      <td>0.000000</td>\n",
       "      <td>0.000000</td>\n",
       "      <td>0.00000</td>\n",
       "      <td>0.000000</td>\n",
       "      <td>0.000000</td>\n",
       "      <td>33.453100</td>\n",
       "      <td>-100.784000</td>\n",
       "    </tr>\n",
       "    <tr>\n",
       "      <th>50%</th>\n",
       "      <td>7.043325e+09</td>\n",
       "      <td>1.036000e+03</td>\n",
       "      <td>9.490000e+02</td>\n",
       "      <td>2.000000</td>\n",
       "      <td>1.000000</td>\n",
       "      <td>1.000000</td>\n",
       "      <td>1.000000</td>\n",
       "      <td>1.000000</td>\n",
       "      <td>0.00000</td>\n",
       "      <td>0.000000</td>\n",
       "      <td>0.000000</td>\n",
       "      <td>37.650100</td>\n",
       "      <td>-87.710800</td>\n",
       "    </tr>\n",
       "    <tr>\n",
       "      <th>75%</th>\n",
       "      <td>7.048431e+09</td>\n",
       "      <td>1.395000e+03</td>\n",
       "      <td>1.150000e+03</td>\n",
       "      <td>2.000000</td>\n",
       "      <td>2.000000</td>\n",
       "      <td>1.000000</td>\n",
       "      <td>1.000000</td>\n",
       "      <td>1.000000</td>\n",
       "      <td>0.00000</td>\n",
       "      <td>0.000000</td>\n",
       "      <td>0.000000</td>\n",
       "      <td>41.137900</td>\n",
       "      <td>-81.174600</td>\n",
       "    </tr>\n",
       "    <tr>\n",
       "      <th>max</th>\n",
       "      <td>7.051292e+09</td>\n",
       "      <td>2.768307e+09</td>\n",
       "      <td>8.388607e+06</td>\n",
       "      <td>1100.000000</td>\n",
       "      <td>75.000000</td>\n",
       "      <td>1.000000</td>\n",
       "      <td>1.000000</td>\n",
       "      <td>1.000000</td>\n",
       "      <td>1.00000</td>\n",
       "      <td>1.000000</td>\n",
       "      <td>1.000000</td>\n",
       "      <td>102.036000</td>\n",
       "      <td>172.633000</td>\n",
       "    </tr>\n",
       "  </tbody>\n",
       "</table>\n",
       "</div>"
      ],
      "text/plain": [
       "                 id         price        sqfeet           beds          baths  \\\n",
       "count  3.464790e+05  3.464790e+05  3.464790e+05  346479.000000  346479.000000   \n",
       "mean   7.040988e+09  9.664420e+03  1.066326e+03       1.903189       1.480339   \n",
       "std    8.802214e+06  4.703573e+06  2.018537e+04       3.162685       0.608246   \n",
       "min    7.003808e+09  0.000000e+00  0.000000e+00       0.000000       0.000000   \n",
       "25%    7.035988e+09  8.050000e+02  7.500000e+02       1.000000       1.000000   \n",
       "50%    7.043325e+09  1.036000e+03  9.490000e+02       2.000000       1.000000   \n",
       "75%    7.048431e+09  1.395000e+03  1.150000e+03       2.000000       2.000000   \n",
       "max    7.051292e+09  2.768307e+09  8.388607e+06    1100.000000      75.000000   \n",
       "\n",
       "        cats_allowed   dogs_allowed  smoking_allowed  wheelchair_access  \\\n",
       "count  346479.000000  346479.000000    346479.000000       346479.00000   \n",
       "mean        0.726803       0.707861         0.731738            0.08197   \n",
       "std         0.445602       0.454746         0.443055            0.27432   \n",
       "min         0.000000       0.000000         0.000000            0.00000   \n",
       "25%         0.000000       0.000000         0.000000            0.00000   \n",
       "50%         1.000000       1.000000         1.000000            0.00000   \n",
       "75%         1.000000       1.000000         1.000000            0.00000   \n",
       "max         1.000000       1.000000         1.000000            1.00000   \n",
       "\n",
       "       electric_vehicle_charge  comes_furnished            lat           long  \n",
       "count            346479.000000    346479.000000  344757.000000  344757.000000  \n",
       "mean                  0.012792         0.048141      37.234363     -92.705415  \n",
       "std                   0.112374         0.214065       5.550956      16.551071  \n",
       "min                   0.000000         0.000000     -43.533300    -163.894000  \n",
       "25%                   0.000000         0.000000      33.453100    -100.784000  \n",
       "50%                   0.000000         0.000000      37.650100     -87.710800  \n",
       "75%                   0.000000         0.000000      41.137900     -81.174600  \n",
       "max                   1.000000         1.000000     102.036000     172.633000  "
      ]
     },
     "execution_count": 5,
     "metadata": {},
     "output_type": "execute_result"
    }
   ],
   "source": [
    "df_propiedades.describe()"
   ]
  },
  {
   "attachments": {},
   "cell_type": "markdown",
   "metadata": {},
   "source": [
    "### Despues de un analisis exploratorio inicial procedemos a borar las columnas, url, region_url, image_url ya que estas urls no brindan informacion relevante para el modelo"
   ]
  },
  {
   "cell_type": "code",
   "execution_count": 6,
   "metadata": {},
   "outputs": [],
   "source": [
    "df_propiedades.drop(['url','region_url','image_url'], axis=1, inplace=True)"
   ]
  },
  {
   "attachments": {},
   "cell_type": "markdown",
   "metadata": {},
   "source": [
    "### Realizamos una segunda exploracion mas detallada"
   ]
  },
  {
   "cell_type": "code",
   "execution_count": 7,
   "metadata": {},
   "outputs": [
    {
     "name": "stdout",
     "output_type": "stream",
     "text": [
      "<class 'pandas.core.frame.DataFrame'>\n",
      "RangeIndex: 346479 entries, 0 to 346478\n",
      "Data columns (total 19 columns):\n",
      " #   Column                   Non-Null Count   Dtype  \n",
      "---  ------                   --------------   -----  \n",
      " 0   id                       346479 non-null  int64  \n",
      " 1   region                   346479 non-null  object \n",
      " 2   price                    346479 non-null  int64  \n",
      " 3   type                     346479 non-null  object \n",
      " 4   sqfeet                   346479 non-null  int64  \n",
      " 5   beds                     346479 non-null  int64  \n",
      " 6   baths                    346479 non-null  float64\n",
      " 7   cats_allowed             346479 non-null  int64  \n",
      " 8   dogs_allowed             346479 non-null  int64  \n",
      " 9   smoking_allowed          346479 non-null  int64  \n",
      " 10  wheelchair_access        346479 non-null  int64  \n",
      " 11  electric_vehicle_charge  346479 non-null  int64  \n",
      " 12  comes_furnished          346479 non-null  int64  \n",
      " 13  laundry_options          275308 non-null  object \n",
      " 14  parking_options          219797 non-null  object \n",
      " 15  description              346477 non-null  object \n",
      " 16  lat                      344757 non-null  float64\n",
      " 17  long                     344757 non-null  float64\n",
      " 18  state                    346479 non-null  object \n",
      "dtypes: float64(3), int64(10), object(6)\n",
      "memory usage: 50.2+ MB\n"
     ]
    }
   ],
   "source": [
    "df_propiedades.info()"
   ]
  },
  {
   "attachments": {},
   "cell_type": "markdown",
   "metadata": {},
   "source": [
    "### Eliminamos columnas redundantes, contamos con region, state, Long y Lat deteminamos eliminar region y state, quedarnos con Long y Lat"
   ]
  },
  {
   "cell_type": "code",
   "execution_count": 8,
   "metadata": {},
   "outputs": [],
   "source": [
    "df_propiedades.drop(['region','state'], axis=1, inplace=True)"
   ]
  },
  {
   "attachments": {},
   "cell_type": "markdown",
   "metadata": {},
   "source": [
    "### Realizamos una verificacion de la columna 'description' y notamos que es un tecuento de los atributos de las demas variable"
   ]
  },
  {
   "cell_type": "code",
   "execution_count": 9,
   "metadata": {},
   "outputs": [],
   "source": [
    "df_propiedades.drop(['description'], axis=1, inplace=True)"
   ]
  },
  {
   "attachments": {},
   "cell_type": "markdown",
   "metadata": {},
   "source": [
    "### Eleminamos valores duplicados"
   ]
  },
  {
   "cell_type": "code",
   "execution_count": 10,
   "metadata": {},
   "outputs": [],
   "source": [
    "df_propiedades = df_propiedades.drop_duplicates()"
   ]
  },
  {
   "cell_type": "code",
   "execution_count": 11,
   "metadata": {},
   "outputs": [
    {
     "name": "stdout",
     "output_type": "stream",
     "text": [
      "<class 'pandas.core.frame.DataFrame'>\n",
      "Int64Index: 346479 entries, 0 to 346478\n",
      "Data columns (total 16 columns):\n",
      " #   Column                   Non-Null Count   Dtype  \n",
      "---  ------                   --------------   -----  \n",
      " 0   id                       346479 non-null  int64  \n",
      " 1   price                    346479 non-null  int64  \n",
      " 2   type                     346479 non-null  object \n",
      " 3   sqfeet                   346479 non-null  int64  \n",
      " 4   beds                     346479 non-null  int64  \n",
      " 5   baths                    346479 non-null  float64\n",
      " 6   cats_allowed             346479 non-null  int64  \n",
      " 7   dogs_allowed             346479 non-null  int64  \n",
      " 8   smoking_allowed          346479 non-null  int64  \n",
      " 9   wheelchair_access        346479 non-null  int64  \n",
      " 10  electric_vehicle_charge  346479 non-null  int64  \n",
      " 11  comes_furnished          346479 non-null  int64  \n",
      " 12  laundry_options          275308 non-null  object \n",
      " 13  parking_options          219797 non-null  object \n",
      " 14  lat                      344757 non-null  float64\n",
      " 15  long                     344757 non-null  float64\n",
      "dtypes: float64(3), int64(10), object(3)\n",
      "memory usage: 44.9+ MB\n"
     ]
    }
   ],
   "source": [
    "df_propiedades.info()"
   ]
  },
  {
   "attachments": {},
   "cell_type": "markdown",
   "metadata": {},
   "source": [
    "### Realizamos validacion de las propiedades que tiene valores de 0, determinamos que podrian generar sesgo en el modelo y las eliminamos"
   ]
  },
  {
   "cell_type": "code",
   "execution_count": 12,
   "metadata": {},
   "outputs": [],
   "source": [
    "verificar = df_propiedades.price == 0"
   ]
  },
  {
   "cell_type": "code",
   "execution_count": 13,
   "metadata": {},
   "outputs": [
    {
     "data": {
      "text/plain": [
       "id                         1175\n",
       "price                      1175\n",
       "type                       1175\n",
       "sqfeet                     1175\n",
       "beds                       1175\n",
       "baths                      1175\n",
       "cats_allowed               1175\n",
       "dogs_allowed               1175\n",
       "smoking_allowed            1175\n",
       "wheelchair_access          1175\n",
       "electric_vehicle_charge    1175\n",
       "comes_furnished            1175\n",
       "laundry_options             996\n",
       "parking_options             824\n",
       "lat                        1167\n",
       "long                       1167\n",
       "dtype: int64"
      ]
     },
     "execution_count": 13,
     "metadata": {},
     "output_type": "execute_result"
    }
   ],
   "source": [
    "df_propiedades[verificar].count()"
   ]
  },
  {
   "cell_type": "code",
   "execution_count": 14,
   "metadata": {},
   "outputs": [],
   "source": [
    "## Realizamos la eliminacion de los valores 0 de la columna price\n",
    "df_propiedades.drop(df_propiedades[(df_propiedades['price'] == 0)].index, inplace=True)"
   ]
  },
  {
   "attachments": {},
   "cell_type": "markdown",
   "metadata": {},
   "source": [
    "### Verificamos variable 'laundry_options' una de la variables con mas nulos, y determinamos "
   ]
  },
  {
   "cell_type": "code",
   "execution_count": 15,
   "metadata": {},
   "outputs": [
    {
     "data": {
      "text/plain": [
       "70992"
      ]
     },
     "execution_count": 15,
     "metadata": {},
     "output_type": "execute_result"
    }
   ],
   "source": [
    "df_propiedades['laundry_options'].isnull().sum()"
   ]
  },
  {
   "cell_type": "code",
   "execution_count": 16,
   "metadata": {},
   "outputs": [
    {
     "data": {
      "text/plain": [
       "w/d in unit           118254\n",
       "w/d hookups            67807\n",
       "laundry on site        52599\n",
       "laundry in bldg        32375\n",
       "no laundry on site      3277\n",
       "Name: laundry_options, dtype: int64"
      ]
     },
     "execution_count": 16,
     "metadata": {},
     "output_type": "execute_result"
    }
   ],
   "source": [
    "df_propiedades['laundry_options'].value_counts()"
   ]
  },
  {
   "attachments": {},
   "cell_type": "markdown",
   "metadata": {},
   "source": [
    "### Verificamos variable 'parking_options' una de la variables con mas nulos, y determinamos "
   ]
  },
  {
   "cell_type": "code",
   "execution_count": 17,
   "metadata": {},
   "outputs": [
    {
     "data": {
      "text/plain": [
       "126331"
      ]
     },
     "execution_count": 17,
     "metadata": {},
     "output_type": "execute_result"
    }
   ],
   "source": [
    "df_propiedades['parking_options'].isnull().sum()"
   ]
  },
  {
   "cell_type": "code",
   "execution_count": 18,
   "metadata": {},
   "outputs": [
    {
     "data": {
      "text/plain": [
       "off-street parking    115185\n",
       "attached garage        36328\n",
       "carport                34818\n",
       "detached garage        15266\n",
       "street parking         14358\n",
       "no parking              2875\n",
       "valet parking            143\n",
       "Name: parking_options, dtype: int64"
      ]
     },
     "execution_count": 18,
     "metadata": {},
     "output_type": "execute_result"
    }
   ],
   "source": [
    "df_propiedades['parking_options'].value_counts()"
   ]
  },
  {
   "attachments": {},
   "cell_type": "markdown",
   "metadata": {},
   "source": [
    "### Elaboro dos dataset, uno dejando los valores nulos y el otro borardo los valores nulos para verificar un mejor modelo"
   ]
  },
  {
   "cell_type": "code",
   "execution_count": 19,
   "metadata": {},
   "outputs": [],
   "source": [
    "df_sinull = df_propiedades.dropna()\n"
   ]
  },
  {
   "cell_type": "code",
   "execution_count": 20,
   "metadata": {},
   "outputs": [
    {
     "data": {
      "text/html": [
       "<div>\n",
       "<style scoped>\n",
       "    .dataframe tbody tr th:only-of-type {\n",
       "        vertical-align: middle;\n",
       "    }\n",
       "\n",
       "    .dataframe tbody tr th {\n",
       "        vertical-align: top;\n",
       "    }\n",
       "\n",
       "    .dataframe thead th {\n",
       "        text-align: right;\n",
       "    }\n",
       "</style>\n",
       "<table border=\"1\" class=\"dataframe\">\n",
       "  <thead>\n",
       "    <tr style=\"text-align: right;\">\n",
       "      <th></th>\n",
       "      <th>id</th>\n",
       "      <th>price</th>\n",
       "      <th>type</th>\n",
       "      <th>sqfeet</th>\n",
       "      <th>beds</th>\n",
       "      <th>baths</th>\n",
       "      <th>cats_allowed</th>\n",
       "      <th>dogs_allowed</th>\n",
       "      <th>smoking_allowed</th>\n",
       "      <th>wheelchair_access</th>\n",
       "      <th>electric_vehicle_charge</th>\n",
       "      <th>comes_furnished</th>\n",
       "      <th>laundry_options</th>\n",
       "      <th>parking_options</th>\n",
       "      <th>lat</th>\n",
       "      <th>long</th>\n",
       "    </tr>\n",
       "  </thead>\n",
       "  <tbody>\n",
       "    <tr>\n",
       "      <th>0</th>\n",
       "      <td>7048013474</td>\n",
       "      <td>1350</td>\n",
       "      <td>house</td>\n",
       "      <td>1200</td>\n",
       "      <td>2</td>\n",
       "      <td>2.0</td>\n",
       "      <td>1</td>\n",
       "      <td>1</td>\n",
       "      <td>1</td>\n",
       "      <td>0</td>\n",
       "      <td>0</td>\n",
       "      <td>0</td>\n",
       "      <td>w/d in unit</td>\n",
       "      <td>detached garage</td>\n",
       "      <td>43.5851</td>\n",
       "      <td>-116.225</td>\n",
       "    </tr>\n",
       "    <tr>\n",
       "      <th>1</th>\n",
       "      <td>7043931179</td>\n",
       "      <td>1115</td>\n",
       "      <td>apartment</td>\n",
       "      <td>694</td>\n",
       "      <td>1</td>\n",
       "      <td>1.0</td>\n",
       "      <td>1</td>\n",
       "      <td>1</td>\n",
       "      <td>1</td>\n",
       "      <td>0</td>\n",
       "      <td>0</td>\n",
       "      <td>0</td>\n",
       "      <td>w/d in unit</td>\n",
       "      <td>carport</td>\n",
       "      <td>38.9137</td>\n",
       "      <td>-104.780</td>\n",
       "    </tr>\n",
       "  </tbody>\n",
       "</table>\n",
       "</div>"
      ],
      "text/plain": [
       "           id  price       type  sqfeet  beds  baths  cats_allowed  \\\n",
       "0  7048013474   1350      house    1200     2    2.0             1   \n",
       "1  7043931179   1115  apartment     694     1    1.0             1   \n",
       "\n",
       "   dogs_allowed  smoking_allowed  wheelchair_access  electric_vehicle_charge  \\\n",
       "0             1                1                  0                        0   \n",
       "1             1                1                  0                        0   \n",
       "\n",
       "   comes_furnished laundry_options  parking_options      lat     long  \n",
       "0                0     w/d in unit  detached garage  43.5851 -116.225  \n",
       "1                0     w/d in unit          carport  38.9137 -104.780  "
      ]
     },
     "execution_count": 20,
     "metadata": {},
     "output_type": "execute_result"
    }
   ],
   "source": [
    "df_sinull.head(2)"
   ]
  },
  {
   "attachments": {},
   "cell_type": "markdown",
   "metadata": {},
   "source": [
    "# Pasamos a realizar las normalizaciones de las variables,\\\\ \n",
    "## Vamos a realizar una funcion para realizar las normalizaciones de los dataset"
   ]
  },
  {
   "cell_type": "code",
   "execution_count": 21,
   "metadata": {},
   "outputs": [],
   "source": [
    "## Importamos la libreria sklearn para realizar procesos de normalizacion \n",
    "import numpy as np\n",
    "import matplotlib.pyplot as plt\n",
    "import sklearn \n",
    "import seaborn as sns"
   ]
  },
  {
   "cell_type": "code",
   "execution_count": 22,
   "metadata": {},
   "outputs": [],
   "source": [
    "def transform(dataset):\n",
    "    ## importamos libreria para realizar normalizacion\n",
    "    from sklearn import preprocessing\n",
    "\n",
    "    ## declaramos la variable LabelEncoder para realizar las transformaciones\n",
    "    le = preprocessing.LabelEncoder()\n",
    "\n",
    "    ## Aplicamos las transformaciones a las variables, Type, laundry_options, parking_options\n",
    "    dataset['type_le'] = le.fit_transform(dataset['type'])\n",
    "    dataset['laundry_options_le'] = le.fit_transform(dataset['laundry_options'])\n",
    "    dataset['parking_options_le'] = le.fit_transform(dataset['parking_options'])\n",
    "\n",
    "    ## Eliminamos las columnas de la cuales himos las normalizaciones\n",
    "    dataset.drop(['id','type','laundry_options','parking_options'], axis=1, inplace=True)\n",
    "    df_sinull.drop(['lat','long'], axis=1, inplace=True)\n",
    "\n",
    "    ##Creamos la nueva columna category_price donde definimos los valores de la variable, solicitados\n",
    "    ## low = 1\n",
    "    ## not low = 0\n",
    "    \n",
    "\n",
    "    return dataset\n",
    "    \n",
    "    "
   ]
  },
  {
   "attachments": {},
   "cell_type": "markdown",
   "metadata": {},
   "source": [
    "## Utilizamos nuestra funcion transform para nuestros dataset"
   ]
  },
  {
   "cell_type": "code",
   "execution_count": 23,
   "metadata": {},
   "outputs": [
    {
     "name": "stderr",
     "output_type": "stream",
     "text": [
      "C:\\Users\\crist\\AppData\\Local\\Temp\\ipykernel_8172\\986432791.py:9: SettingWithCopyWarning: \n",
      "A value is trying to be set on a copy of a slice from a DataFrame.\n",
      "Try using .loc[row_indexer,col_indexer] = value instead\n",
      "\n",
      "See the caveats in the documentation: https://pandas.pydata.org/pandas-docs/stable/user_guide/indexing.html#returning-a-view-versus-a-copy\n",
      "  dataset['type_le'] = le.fit_transform(dataset['type'])\n",
      "C:\\Users\\crist\\AppData\\Local\\Temp\\ipykernel_8172\\986432791.py:10: SettingWithCopyWarning: \n",
      "A value is trying to be set on a copy of a slice from a DataFrame.\n",
      "Try using .loc[row_indexer,col_indexer] = value instead\n",
      "\n",
      "See the caveats in the documentation: https://pandas.pydata.org/pandas-docs/stable/user_guide/indexing.html#returning-a-view-versus-a-copy\n",
      "  dataset['laundry_options_le'] = le.fit_transform(dataset['laundry_options'])\n",
      "C:\\Users\\crist\\AppData\\Local\\Temp\\ipykernel_8172\\986432791.py:11: SettingWithCopyWarning: \n",
      "A value is trying to be set on a copy of a slice from a DataFrame.\n",
      "Try using .loc[row_indexer,col_indexer] = value instead\n",
      "\n",
      "See the caveats in the documentation: https://pandas.pydata.org/pandas-docs/stable/user_guide/indexing.html#returning-a-view-versus-a-copy\n",
      "  dataset['parking_options_le'] = le.fit_transform(dataset['parking_options'])\n",
      "C:\\Users\\crist\\AppData\\Local\\Temp\\ipykernel_8172\\986432791.py:14: SettingWithCopyWarning: \n",
      "A value is trying to be set on a copy of a slice from a DataFrame\n",
      "\n",
      "See the caveats in the documentation: https://pandas.pydata.org/pandas-docs/stable/user_guide/indexing.html#returning-a-view-versus-a-copy\n",
      "  dataset.drop(['id','type','laundry_options','parking_options'], axis=1, inplace=True)\n",
      "C:\\Users\\crist\\AppData\\Local\\Temp\\ipykernel_8172\\986432791.py:15: SettingWithCopyWarning: \n",
      "A value is trying to be set on a copy of a slice from a DataFrame\n",
      "\n",
      "See the caveats in the documentation: https://pandas.pydata.org/pandas-docs/stable/user_guide/indexing.html#returning-a-view-versus-a-copy\n",
      "  df_sinull.drop(['lat','long'], axis=1, inplace=True)\n"
     ]
    }
   ],
   "source": [
    "df_sinull = transform(df_sinull)\n"
   ]
  },
  {
   "attachments": {},
   "cell_type": "markdown",
   "metadata": {},
   "source": [
    "### verificamos si nuestra variable objetivo se encuentra balanceada"
   ]
  },
  {
   "attachments": {},
   "cell_type": "markdown",
   "metadata": {},
   "source": [
    "### vamos a realizar un mapa de correlaciones para mirar las distribuciones de las variables"
   ]
  },
  {
   "cell_type": "code",
   "execution_count": 24,
   "metadata": {},
   "outputs": [],
   "source": [
    "import numpy as np\n",
    "import matplotlib.pyplot as plt\n",
    "import seaborn as sns\n",
    "import pandas as pd\n",
    "sns.set()"
   ]
  },
  {
   "cell_type": "code",
   "execution_count": 25,
   "metadata": {},
   "outputs": [],
   "source": [
    "df_corr_sinull = df_sinull[['sqfeet','beds','baths','smoking_allowed','wheelchair_access','type_le','laundry_options_le',\n",
    "       'parking_options_le']]"
   ]
  },
  {
   "cell_type": "code",
   "execution_count": 26,
   "metadata": {},
   "outputs": [
    {
     "name": "stderr",
     "output_type": "stream",
     "text": [
      "C:\\Users\\crist\\AppData\\Local\\Packages\\PythonSoftwareFoundation.Python.3.10_qbz5n2kfra8p0\\LocalCache\\local-packages\\Python310\\site-packages\\sklearn\\cluster\\_kmeans.py:870: FutureWarning: The default value of `n_init` will change from 10 to 'auto' in 1.4. Set the value of `n_init` explicitly to suppress the warning\n",
      "  warnings.warn(\n"
     ]
    }
   ],
   "source": [
    "from sklearn.cluster import KMeans\n",
    "df_nosuper = KMeans(n_clusters=3, random_state=42)\n",
    "df_nosuper.fit(df_corr_sinull)\n",
    "etiquetas_1 = df_nosuper.labels_\n",
    "centros_1 = df_nosuper.cluster_centers_"
   ]
  },
  {
   "cell_type": "code",
   "execution_count": 27,
   "metadata": {},
   "outputs": [],
   "source": [
    "clusters = pd.DataFrame(data=df_nosuper.cluster_centers_, columns=['sqfeet','beds','baths','smoking_allowed','wheelchair_access','type_le','laundry_options_le',\n",
    "       'parking_options_le'])"
   ]
  },
  {
   "cell_type": "code",
   "execution_count": 28,
   "metadata": {},
   "outputs": [
    {
     "data": {
      "text/html": [
       "<div>\n",
       "<style scoped>\n",
       "    .dataframe tbody tr th:only-of-type {\n",
       "        vertical-align: middle;\n",
       "    }\n",
       "\n",
       "    .dataframe tbody tr th {\n",
       "        vertical-align: top;\n",
       "    }\n",
       "\n",
       "    .dataframe thead th {\n",
       "        text-align: right;\n",
       "    }\n",
       "</style>\n",
       "<table border=\"1\" class=\"dataframe\">\n",
       "  <thead>\n",
       "    <tr style=\"text-align: right;\">\n",
       "      <th></th>\n",
       "      <th>sqfeet</th>\n",
       "      <th>beds</th>\n",
       "      <th>baths</th>\n",
       "      <th>smoking_allowed</th>\n",
       "      <th>wheelchair_access</th>\n",
       "      <th>type_le</th>\n",
       "      <th>laundry_options_le</th>\n",
       "      <th>parking_options_le</th>\n",
       "    </tr>\n",
       "  </thead>\n",
       "  <tbody>\n",
       "    <tr>\n",
       "      <th>0</th>\n",
       "      <td>1.011204e+03</td>\n",
       "      <td>1.924075</td>\n",
       "      <td>1.478928</td>\n",
       "      <td>0.643173</td>\n",
       "      <td>1.039170e-01</td>\n",
       "      <td>1.483852</td>\n",
       "      <td>2.646430</td>\n",
       "      <td>2.777191</td>\n",
       "    </tr>\n",
       "    <tr>\n",
       "      <th>1</th>\n",
       "      <td>8.194304e+06</td>\n",
       "      <td>2.000000</td>\n",
       "      <td>1.000000</td>\n",
       "      <td>0.500000</td>\n",
       "      <td>0.000000e+00</td>\n",
       "      <td>0.000000</td>\n",
       "      <td>0.000000</td>\n",
       "      <td>3.000000</td>\n",
       "    </tr>\n",
       "    <tr>\n",
       "      <th>2</th>\n",
       "      <td>9.692538e+05</td>\n",
       "      <td>2.166667</td>\n",
       "      <td>1.666667</td>\n",
       "      <td>0.666667</td>\n",
       "      <td>1.387779e-17</td>\n",
       "      <td>2.000000</td>\n",
       "      <td>1.666667</td>\n",
       "      <td>2.500000</td>\n",
       "    </tr>\n",
       "  </tbody>\n",
       "</table>\n",
       "</div>"
      ],
      "text/plain": [
       "         sqfeet      beds     baths  smoking_allowed  wheelchair_access  \\\n",
       "0  1.011204e+03  1.924075  1.478928         0.643173       1.039170e-01   \n",
       "1  8.194304e+06  2.000000  1.000000         0.500000       0.000000e+00   \n",
       "2  9.692538e+05  2.166667  1.666667         0.666667       1.387779e-17   \n",
       "\n",
       "    type_le  laundry_options_le  parking_options_le  \n",
       "0  1.483852            2.646430            2.777191  \n",
       "1  0.000000            0.000000            3.000000  \n",
       "2  2.000000            1.666667            2.500000  "
      ]
     },
     "execution_count": 28,
     "metadata": {},
     "output_type": "execute_result"
    }
   ],
   "source": [
    "clusters"
   ]
  },
  {
   "cell_type": "code",
   "execution_count": 29,
   "metadata": {},
   "outputs": [],
   "source": [
    "df_test = pd.read_parquet('./test.parquet')"
   ]
  },
  {
   "cell_type": "code",
   "execution_count": 30,
   "metadata": {},
   "outputs": [],
   "source": [
    "def data_test(df_test):\n",
    "    df_test.drop(['url','region_url','image_url'], axis=1, inplace=True)\n",
    "    df_test.drop(['region','state'], axis=1, inplace=True)\n",
    "    df_test.drop(['description'], axis=1, inplace=True)\n",
    "    from sklearn import preprocessing\n",
    "    le = preprocessing.LabelEncoder()\n",
    "    df_test['type_le'] = le.fit_transform(df_test['type'])\n",
    "    df_test['laundry_options_le'] = le.fit_transform(df_test['laundry_options'])\n",
    "    df_test['parking_options_le'] = le.fit_transform(df_test['parking_options'])\n",
    "    df_test.drop(['id','type','laundry_options','parking_options'], axis=1, inplace=True)\n",
    "    df_test.drop(['lat','long'], axis=1, inplace=True)\n",
    "    df_test = df_test[['sqfeet','beds','baths','smoking_allowed','wheelchair_access','type_le','laundry_options_le',\n",
    "       'parking_options_le']]\n",
    "    \n",
    "    return df_test"
   ]
  },
  {
   "cell_type": "code",
   "execution_count": 31,
   "metadata": {},
   "outputs": [],
   "source": [
    "df_test = data_test(df_test)\n",
    "test_pred = df_nosuper.predict(df_test)\n",
    "pred_csv = pd.DataFrame(test_pred)\n",
    "pd.DataFrame(pred_csv).to_csv('Alemax019.csv', index=False, header = False)"
   ]
  },
  {
   "cell_type": "code",
   "execution_count": 32,
   "metadata": {},
   "outputs": [
    {
     "data": {
      "text/plain": [
       "array([0])"
      ]
     },
     "execution_count": 32,
     "metadata": {},
     "output_type": "execute_result"
    }
   ],
   "source": [
    "pred_csv[0].unique()"
   ]
  }
 ],
 "metadata": {
  "kernelspec": {
   "display_name": "Python 3",
   "language": "python",
   "name": "python3"
  },
  "language_info": {
   "codemirror_mode": {
    "name": "ipython",
    "version": 3
   },
   "file_extension": ".py",
   "mimetype": "text/x-python",
   "name": "python",
   "nbconvert_exporter": "python",
   "pygments_lexer": "ipython3",
   "version": "3.10.9"
  },
  "orig_nbformat": 4,
  "vscode": {
   "interpreter": {
    "hash": "d2cebceb6c68f4ea04f0cb4e6546cfb3722fb6cf73137fe815b750b1ee1a9c58"
   }
  }
 },
 "nbformat": 4,
 "nbformat_minor": 2
}
